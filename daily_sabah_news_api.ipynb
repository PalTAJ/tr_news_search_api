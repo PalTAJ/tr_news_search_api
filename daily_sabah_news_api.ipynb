{
 "cells": [
  {
   "cell_type": "code",
   "execution_count": 1,
   "metadata": {},
   "outputs": [],
   "source": [
    "import  requests \n",
    "import time\n",
    "import pandas as pd\n",
    "\n",
    "from urllib.error import URLError, HTTPError\n",
    "from urllib3.exceptions import SSLError\n",
    "\n",
    "from requests.exceptions import HTTPError\n",
    "from bs4 import BeautifulSoup\n",
    "from urllib.request import urlopen, Request\n",
    "from socket import timeout"
   ]
  },
  {
   "cell_type": "code",
   "execution_count": null,
   "metadata": {},
   "outputs": [],
   "source": []
  },
  {
   "cell_type": "code",
   "execution_count": 2,
   "metadata": {},
   "outputs": [
    {
     "name": "stdout",
     "output_type": "stream",
     "text": [
      "https://www.dailysabah.com/search?query=turkish+airlines&qlimit=by_fifty&pgno=\n",
      "https://www.dailysabah.com/search?query=turkish+airlines&qlimit=by_fifty&qsort=oldest&pgno=\n"
     ]
    }
   ],
   "source": [
    "search_input = 'Turkish Airlines'\n",
    "search_string = '+'.join(str(e) for e in search_input.lower().split())\n",
    "\n",
    "## each search page has number of results pages with a limit of 50 news article in each one.\n",
    "\n",
    "url1 = f'https://www.dailysabah.com/search?query={search_string}&qlimit=by_fifty&pgno='\n",
    "url2 = f'https://www.dailysabah.com/search?query={search_string}&qlimit=by_fifty&qsort=oldest&pgno='\n",
    "urls = [url1,url2]\n",
    "print(url1)\n",
    "print(url2)\n"
   ]
  },
  {
   "cell_type": "code",
   "execution_count": 3,
   "metadata": {},
   "outputs": [
    {
     "name": "stdout",
     "output_type": "stream",
     "text": [
      "98\n",
      "https://www.dailysabah.com/search?query=turkish+airlines&qlimit=by_fifty&pgno=1\n",
      "https://www.dailysabah.com/search?query=turkish+airlines&qlimit=by_fifty&qsort=oldest&pgno=49\n"
     ]
    }
   ],
   "source": [
    "list_of_links = []\n",
    "\n",
    "for url in urls:\n",
    "    numbers = 1\n",
    "    try: \n",
    "    \n",
    "        headers = {'User-Agent': 'Mozilla/5.0 (Windows NT 6.1) AppleWebKit/537.36 (KHTML, like Gecko) Chrome/41.0.2228.0 Safari/537.3'}\n",
    "        reg_url = url\n",
    "        req = Request(url=reg_url, headers=headers) \n",
    "        html = urlopen(req).read()  \n",
    "\n",
    "        soup = BeautifulSoup(html, \"html.parser\")\n",
    "    \n",
    "        data = soup.findAll('div',{'class':'pages_list'})\n",
    "        data2 = str(data).split('pgno=')\n",
    "        number = int(data2[-2].split('\">')[0])\n",
    "        \n",
    "        for i in range(1,number+1,1):\n",
    "            list_of_links.append(url+str(i))\n",
    "            \n",
    "    except HTTPError as http_err:\n",
    "        print(f'HTTP error occurred: {http_err}')  \n",
    "        pass\n",
    "    except Exception as err:\n",
    "        print(f'Other1 error occurred: {err}')  \n",
    "        pass\n",
    "\n",
    "    \n",
    "print(len(list_of_links))\n",
    "print(list_of_links[0])\n",
    "print(list_of_links[-1])"
   ]
  },
  {
   "cell_type": "code",
   "execution_count": 28,
   "metadata": {},
   "outputs": [],
   "source": [
    "headlines = []\n",
    "for url in list_of_links:\n",
    "    try: \n",
    "    \n",
    "        headers = {'User-Agent': 'Mozilla/5.0 (Windows NT 6.1) AppleWebKit/537.36 (KHTML, like Gecko) Chrome/41.0.2228.0 Safari/537.3'}\n",
    "        reg_url = url\n",
    "        req = Request(url=reg_url, headers=headers) \n",
    "        html = urlopen(req).read()  \n",
    "\n",
    "        soup = BeautifulSoup(html, \"html.parser\")\n",
    "    \n",
    "        data = soup.findAll('ul',{'class':'items_list'})\n",
    "        data2 = str(data[0]).split('<div class=\"image_holder\">')\n",
    "\n",
    "        for i in range(1,len(data2),2):\n",
    "            link = data2[i].split('<a href=\"')[1].split('\">')[0]\n",
    "            date =  data2[i].split('<div class=\"date_text\">')[1].split('</div')[0].strip()\n",
    "            headline = data2[i].split('<h3>')[1].split('</a>')[0].split('\">')[1].strip()        \n",
    "            headlines.append([headline,date,link])\n",
    "            \n",
    "    except HTTPError as http_err:\n",
    "        print(f'HTTP error occurred: {http_err}')  \n",
    "        pass\n",
    "    except Exception as err:\n",
    "        print(f'Other1 error occurred: {err}')  \n",
    "        pass\n"
   ]
  },
  {
   "cell_type": "code",
   "execution_count": 35,
   "metadata": {},
   "outputs": [
    {
     "name": "stdout",
     "output_type": "stream",
     "text": [
      "['Turkish Airlines offers flights to Tajikistan', 'Aug 04, 2015', 'https://www.dailysabah.com/business/2015/08/04/turkish-airlines-offers-flights-to-tajikistan']\n",
      "2425\n"
     ]
    }
   ],
   "source": [
    "print(headlines[-3])\n",
    "\n",
    "print(len(headlines))"
   ]
  },
  {
   "cell_type": "code",
   "execution_count": 36,
   "metadata": {},
   "outputs": [
    {
     "data": {
      "text/plain": [
       "<bound method NDFrame.describe of                                                    text          date  \\\n",
       "0     Turkey virtually halts intercity travel amid C...  Mar 27, 2020   \n",
       "1     Turkey Wealth Fund inks $5B MoU with China's S...  Mar 26, 2020   \n",
       "2     Anti-virus fight: More test kits arrive as dea...  Mar 23, 2020   \n",
       "3     THY's Turkish Cargo to open route to Linz, Aus...  Mar 23, 2020   \n",
       "4     Turkish Airlines grounding all intl flights, e...  Mar 22, 2020   \n",
       "...                                                 ...           ...   \n",
       "2420  Turkish Airlines plane makes emergency landing...  Jul 30, 2015   \n",
       "2421  Turan shows off-field leadership during Barcel...  Jul 31, 2015   \n",
       "2422      Turkish Airlines offers flights to Tajikistan  Aug 04, 2015   \n",
       "2423  Foreign net sales in Turkey valued at $248 mil...  Aug 07, 2015   \n",
       "2424  Kenya seeks to boost trade with Turkey, says K...  Aug 08, 2015   \n",
       "\n",
       "                                           article_link  \n",
       "0     https://www.dailysabah.com/business/transporta...  \n",
       "1     https://www.dailysabah.com/business/economy/tu...  \n",
       "2     https://www.dailysabah.com/turkey/anti-virus-f...  \n",
       "3     https://www.dailysabah.com/business/transporta...  \n",
       "4     https://www.dailysabah.com/business/transporta...  \n",
       "...                                                 ...  \n",
       "2420  https://www.dailysabah.com/turkey/2015/07/30/t...  \n",
       "2421  https://www.dailysabah.com/football/2015/07/31...  \n",
       "2422  https://www.dailysabah.com/business/2015/08/04...  \n",
       "2423  https://www.dailysabah.com/finance/2015/08/07/...  \n",
       "2424  https://www.dailysabah.com/economy/2015/08/08/...  \n",
       "\n",
       "[2425 rows x 3 columns]>"
      ]
     },
     "execution_count": 36,
     "metadata": {},
     "output_type": "execute_result"
    }
   ],
   "source": [
    "    \n",
    "df = pd.DataFrame(headlines, columns =['text','date','article_link'])\n",
    "df.to_csv(f'apis_datasets/{search_input}_DailySabah.csv', encoding='utf-8', index=False)\n",
    "\n",
    "df.head()  \n",
    "df.describe"
   ]
  },
  {
   "cell_type": "code",
   "execution_count": null,
   "metadata": {},
   "outputs": [],
   "source": []
  }
 ],
 "metadata": {
  "kernelspec": {
   "display_name": "Python 3",
   "language": "python",
   "name": "python3"
  },
  "language_info": {
   "codemirror_mode": {
    "name": "ipython",
    "version": 3
   },
   "file_extension": ".py",
   "mimetype": "text/x-python",
   "name": "python",
   "nbconvert_exporter": "python",
   "pygments_lexer": "ipython3",
   "version": "3.6.8"
  }
 },
 "nbformat": 4,
 "nbformat_minor": 4
}
