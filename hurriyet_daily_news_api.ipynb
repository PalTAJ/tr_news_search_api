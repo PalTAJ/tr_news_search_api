{
 "cells": [
  {
   "cell_type": "code",
   "execution_count": 1,
   "metadata": {},
   "outputs": [],
   "source": [
    "import  requests \n",
    "import time\n",
    "import pandas as pd\n",
    "\n",
    "from urllib.error import URLError, HTTPError\n",
    "from urllib3.exceptions import SSLError\n",
    "\n",
    "from requests.exceptions import HTTPError\n",
    "from bs4 import BeautifulSoup\n",
    "from urllib.request import urlopen, Request\n",
    "from socket import timeout"
   ]
  },
  {
   "cell_type": "code",
   "execution_count": 127,
   "metadata": {},
   "outputs": [
    {
     "name": "stdout",
     "output_type": "stream",
     "text": [
      "https://www.hurriyetdailynews.com/search/akbank?p=\n"
     ]
    }
   ],
   "source": [
    "url = 'https://www.hurriyetdailynews.com/search/'\n",
    "keyword = 'akbank'\n",
    "# keyword = 'thy'\n",
    "\n",
    "keyword2 = '%20'.join(keyword.split())\n",
    "keyword3 = '_'.join(keyword.split())\n",
    "\n",
    "url = url + keyword2 + '?p='\n",
    "print(url)\n"
   ]
  },
  {
   "cell_type": "code",
   "execution_count": 128,
   "metadata": {},
   "outputs": [
    {
     "name": "stdout",
     "output_type": "stream",
     "text": [
      "Total news:  350\n",
      "6.862745098039215\n"
     ]
    }
   ],
   "source": [
    "try: \n",
    "    \n",
    "    url2 = url + '1'\n",
    "    \n",
    "    headers = {'User-Agent': 'Mozilla/5.0 (Windows NT 6.1) AppleWebKit/537.36 (KHTML, like Gecko) Chrome/41.0.2228.0 Safari/537.3'}\n",
    "    reg_url = url2\n",
    "    req = Request(url=reg_url, headers=headers) \n",
    "    html = urlopen(req).read()  \n",
    "\n",
    "    soup = BeautifulSoup(html, \"html.parser\")\n",
    "\n",
    "    data = soup.find('p',{'class':'search-result-summary'})\n",
    "    n_news = int(data.text.split()[1]) \n",
    "    print('Total news: ',n_news)\n",
    "        \n",
    "            \n",
    "except HTTPError as http_err:\n",
    "    print(f'HTTP error occurred: {http_err}')  \n",
    "    pass\n",
    "except Exception as err:\n",
    "    print(f'Other1 error occurred: {err}')  \n",
    "    pass\n",
    "\n",
    "print(n_news/51)\n",
    "if str(n_news/51).split('.')[1][0]  != '0':\n",
    "    pages = int(n_news/51)+2\n",
    "else:\n",
    "    pages = int(n_news/51)+1\n"
   ]
  },
  {
   "cell_type": "code",
   "execution_count": 129,
   "metadata": {},
   "outputs": [
    {
     "name": "stdout",
     "output_type": "stream",
     "text": [
      "1\n",
      "n of news on current page:  51\n",
      "2\n",
      "n of news on current page:  51\n",
      "3\n",
      "n of news on current page:  51\n",
      "4\n",
      "n of news on current page:  51\n",
      "5\n",
      "n of news on current page:  51\n",
      "6\n",
      "n of news on current page:  51\n",
      "7\n",
      "n of news on current page:  44\n",
      "350\n"
     ]
    }
   ],
   "source": [
    "try: \n",
    "    headlines = []\n",
    "    headers = {'User-Agent': 'Mozilla/5.0 (Windows NT 6.1) AppleWebKit/537.36 (KHTML, like Gecko) Chrome/41.0.2228.0 Safari/537.3'}\n",
    "    \n",
    "    for i in range(1,pages,1):\n",
    "        print(i)\n",
    "        url3 = url+str(i)\n",
    "#         print()\n",
    "        reg_url = url3\n",
    "        req = Request(url=reg_url, headers=headers) \n",
    "        html = urlopen(req).read()  \n",
    "\n",
    "        soup = BeautifulSoup(html, \"html.parser\")\n",
    "\n",
    "        data = soup.findAll('div',{'class':'col-md-4 col-sm-4'})\n",
    "        news_found = len(data)\n",
    "    \n",
    "        print('n of news on current page: ',news_found)\n",
    "    \n",
    "        for i in range(0,news_found,1):\n",
    "            headline = data[i].find('h3').text\n",
    "            link = str(data[i].find('a'))\n",
    "            link = 'https://www.hurriyetdailynews.com/'+link.split('href=\"')[1].split('\"')[0]\n",
    "            headlines.append([headline,link])\n",
    "\n",
    "            \n",
    "except HTTPError as http_err:\n",
    "    print(f'HTTP error occurred: {http_err}')  \n",
    "    pass\n",
    "except Exception as err:\n",
    "    print(f'Other1 error occurred: {err}')  \n",
    "    pass\n",
    "    \n",
    "    \n",
    "print(len(headlines))\n",
    "    \n",
    "df = pd.DataFrame(headlines, columns =['text','article_link'])\n",
    "df.to_csv(f'apis_datasets/{keyword3}_DailyNews_hurriet.csv', encoding='utf-8', index=False)\n"
   ]
  },
  {
   "cell_type": "code",
   "execution_count": 130,
   "metadata": {},
   "outputs": [
    {
     "data": {
      "text/html": [
       "<div>\n",
       "<style scoped>\n",
       "    .dataframe tbody tr th:only-of-type {\n",
       "        vertical-align: middle;\n",
       "    }\n",
       "\n",
       "    .dataframe tbody tr th {\n",
       "        vertical-align: top;\n",
       "    }\n",
       "\n",
       "    .dataframe thead th {\n",
       "        text-align: right;\n",
       "    }\n",
       "</style>\n",
       "<table border=\"1\" class=\"dataframe\">\n",
       "  <thead>\n",
       "    <tr style=\"text-align: right;\">\n",
       "      <th></th>\n",
       "      <th>text</th>\n",
       "      <th>article_link</th>\n",
       "    </tr>\n",
       "  </thead>\n",
       "  <tbody>\n",
       "    <tr>\n",
       "      <th>0</th>\n",
       "      <td>Turkish investment funds hit record level of $...</td>\n",
       "      <td>https://www.hurriyetdailynews.com//turkish-inv...</td>\n",
       "    </tr>\n",
       "    <tr>\n",
       "      <th>1</th>\n",
       "      <td>Akbank Jazz Fest continues at home</td>\n",
       "      <td>https://www.hurriyetdailynews.com//akbank-jazz...</td>\n",
       "    </tr>\n",
       "    <tr>\n",
       "      <th>2</th>\n",
       "      <td>Türk Eximbank takes steps to back exporters am...</td>\n",
       "      <td>https://www.hurriyetdailynews.com//turk-eximba...</td>\n",
       "    </tr>\n",
       "    <tr>\n",
       "      <th>3</th>\n",
       "      <td>Abramovic retrospective opening 'new horizons'</td>\n",
       "      <td>https://www.hurriyetdailynews.com//abramovic-r...</td>\n",
       "    </tr>\n",
       "    <tr>\n",
       "      <th>4</th>\n",
       "      <td>Banks report highest-ever November profit</td>\n",
       "      <td>https://www.hurriyetdailynews.com//banks-repor...</td>\n",
       "    </tr>\n",
       "  </tbody>\n",
       "</table>\n",
       "</div>"
      ],
      "text/plain": [
       "                                                text  \\\n",
       "0  Turkish investment funds hit record level of $...   \n",
       "1                 Akbank Jazz Fest continues at home   \n",
       "2  Türk Eximbank takes steps to back exporters am...   \n",
       "3     Abramovic retrospective opening 'new horizons'   \n",
       "4          Banks report highest-ever November profit   \n",
       "\n",
       "                                        article_link  \n",
       "0  https://www.hurriyetdailynews.com//turkish-inv...  \n",
       "1  https://www.hurriyetdailynews.com//akbank-jazz...  \n",
       "2  https://www.hurriyetdailynews.com//turk-eximba...  \n",
       "3  https://www.hurriyetdailynews.com//abramovic-r...  \n",
       "4  https://www.hurriyetdailynews.com//banks-repor...  "
      ]
     },
     "execution_count": 130,
     "metadata": {},
     "output_type": "execute_result"
    }
   ],
   "source": [
    "df.head()"
   ]
  },
  {
   "cell_type": "code",
   "execution_count": null,
   "metadata": {},
   "outputs": [],
   "source": []
  }
 ],
 "metadata": {
  "kernelspec": {
   "display_name": "Python 3",
   "language": "python",
   "name": "python3"
  },
  "language_info": {
   "codemirror_mode": {
    "name": "ipython",
    "version": 3
   },
   "file_extension": ".py",
   "mimetype": "text/x-python",
   "name": "python",
   "nbconvert_exporter": "python",
   "pygments_lexer": "ipython3",
   "version": "3.7.6"
  }
 },
 "nbformat": 4,
 "nbformat_minor": 4
}
